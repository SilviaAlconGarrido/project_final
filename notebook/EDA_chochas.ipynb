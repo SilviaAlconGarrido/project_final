{
 "cells": [
  {
   "cell_type": "code",
   "execution_count": 1,
   "id": "0a91c45b",
   "metadata": {},
   "outputs": [],
   "source": [
    "# EDA chat chochas"
   ]
  },
  {
   "cell_type": "code",
   "execution_count": 15,
   "id": "74a4ef1a",
   "metadata": {},
   "outputs": [],
   "source": [
    "import numpy as np\n",
    "import pandas as pd\n",
    "\n",
    "import re\n",
    "import csv\n",
    "\n",
    "import pandas as pd\n",
    "import matplotlib.pyplot as plt\n",
    "\n",
    "from collections import Counter\n"
   ]
  },
  {
   "cell_type": "code",
   "execution_count": 16,
   "id": "cd67b15a",
   "metadata": {},
   "outputs": [
    {
     "name": "stdout",
     "output_type": "stream",
     "text": [
      "El archivo TXT se ha convertido exitosamente a CSV.\n"
     ]
    }
   ],
   "source": [
    "# Ruta al archivo de texto que deseas convertir\n",
    "archivo_txt = '../data/chochas_chat.txt'\n",
    "\n",
    "# Ruta al archivo CSV de salida\n",
    "archivo_csv = '../data/chochas_chat.csv'\n",
    "\n",
    "# Patrón de expresión regular para buscar la fecha, hora, persona y mensaje\n",
    "patron = r'\\[(.*?)\\] (.*?): (.*)'\n",
    "\n",
    "# Lee el archivo de texto y escribe los datos en un archivo CSV\n",
    "with open(archivo_txt, 'r') as txt_file, open(archivo_csv, 'w', newline='') as csv_file:\n",
    "    # Crea un objeto de escritura de CSV\n",
    "    writer = csv.writer(csv_file)\n",
    "    # Escribe el encabezado del CSV\n",
    "    writer.writerow([\"Fecha\", \"Hora\", \"Persona\", \"Mensaje\"])\n",
    "    \n",
    "    # Procesa cada línea del archivo de texto\n",
    "    for linea in txt_file:\n",
    "        # Busca coincidencias con el patrón de expresión regular\n",
    "        match = re.match(patron, linea)\n",
    "        \n",
    "        # Si hay una coincidencia, extrae la información\n",
    "        if match:\n",
    "            fecha_hora, persona, mensaje = match.groups()\n",
    "            fecha, hora = fecha_hora.split()\n",
    "            \n",
    "            # Escribe los datos en el archivo CSV\n",
    "            writer.writerow([fecha, hora, persona, mensaje])\n",
    "\n",
    "print(\"El archivo TXT se ha convertido exitosamente a CSV.\")\n"
   ]
  },
  {
   "cell_type": "code",
   "execution_count": 17,
   "id": "76cca9a9",
   "metadata": {},
   "outputs": [],
   "source": [
    "df_chochas = pd.read_csv(\"../data/chochas_chat.csv\")\n"
   ]
  },
  {
   "cell_type": "code",
   "execution_count": 18,
   "id": "6eb1dcb5",
   "metadata": {},
   "outputs": [
    {
     "data": {
      "text/html": [
       "<div>\n",
       "<style scoped>\n",
       "    .dataframe tbody tr th:only-of-type {\n",
       "        vertical-align: middle;\n",
       "    }\n",
       "\n",
       "    .dataframe tbody tr th {\n",
       "        vertical-align: top;\n",
       "    }\n",
       "\n",
       "    .dataframe thead th {\n",
       "        text-align: right;\n",
       "    }\n",
       "</style>\n",
       "<table border=\"1\" class=\"dataframe\">\n",
       "  <thead>\n",
       "    <tr style=\"text-align: right;\">\n",
       "      <th></th>\n",
       "      <th>Fecha</th>\n",
       "      <th>Hora</th>\n",
       "      <th>Persona</th>\n",
       "      <th>Mensaje</th>\n",
       "    </tr>\n",
       "  </thead>\n",
       "  <tbody>\n",
       "    <tr>\n",
       "      <th>0</th>\n",
       "      <td>28/5/19,</td>\n",
       "      <td>10:57:45</td>\n",
       "      <td>Las chochas</td>\n",
       "      <td>‎Los mensajes y las llamadas están cifrados de...</td>\n",
       "    </tr>\n",
       "    <tr>\n",
       "      <th>1</th>\n",
       "      <td>28/5/19,</td>\n",
       "      <td>10:57:45</td>\n",
       "      <td>Lara U-tad</td>\n",
       "      <td>‎Lara U-tad creó el grupo “Las chochas”.</td>\n",
       "    </tr>\n",
       "    <tr>\n",
       "      <th>2</th>\n",
       "      <td>28/5/19,</td>\n",
       "      <td>10:57:45</td>\n",
       "      <td>Las chochas</td>\n",
       "      <td>‎Lara U-tad te añadió.</td>\n",
       "    </tr>\n",
       "    <tr>\n",
       "      <th>3</th>\n",
       "      <td>28/5/19,</td>\n",
       "      <td>10:58:07</td>\n",
       "      <td>Lara U-tad</td>\n",
       "      <td>María dónde estass</td>\n",
       "    </tr>\n",
       "    <tr>\n",
       "      <th>4</th>\n",
       "      <td>28/5/19,</td>\n",
       "      <td>10:58:12</td>\n",
       "      <td>Ting Chen U-tad</td>\n",
       "      <td>Maria</td>\n",
       "    </tr>\n",
       "    <tr>\n",
       "      <th>...</th>\n",
       "      <td>...</td>\n",
       "      <td>...</td>\n",
       "      <td>...</td>\n",
       "      <td>...</td>\n",
       "    </tr>\n",
       "    <tr>\n",
       "      <th>9131</th>\n",
       "      <td>13/2/24,</td>\n",
       "      <td>14:43:21</td>\n",
       "      <td>Jorge U-tad</td>\n",
       "      <td>Estas asumiendo mi género?</td>\n",
       "    </tr>\n",
       "    <tr>\n",
       "      <th>9132</th>\n",
       "      <td>13/2/24,</td>\n",
       "      <td>14:43:25</td>\n",
       "      <td>Jorge U-tad</td>\n",
       "      <td>Pues has acertado</td>\n",
       "    </tr>\n",
       "    <tr>\n",
       "      <th>9133</th>\n",
       "      <td>13/2/24,</td>\n",
       "      <td>14:43:33</td>\n",
       "      <td>Maria U-tad</td>\n",
       "      <td>JAJAJAJA</td>\n",
       "    </tr>\n",
       "    <tr>\n",
       "      <th>9134</th>\n",
       "      <td>13/2/24,</td>\n",
       "      <td>15:15:29</td>\n",
       "      <td>Lara U-tad</td>\n",
       "      <td>Vaya jajajajajaja</td>\n",
       "    </tr>\n",
       "    <tr>\n",
       "      <th>9135</th>\n",
       "      <td>13/2/24,</td>\n",
       "      <td>15:16:00</td>\n",
       "      <td>Ting Chen U-tad</td>\n",
       "      <td>Jajajajjajajajaj</td>\n",
       "    </tr>\n",
       "  </tbody>\n",
       "</table>\n",
       "<p>9136 rows × 4 columns</p>\n",
       "</div>"
      ],
      "text/plain": [
       "         Fecha      Hora          Persona  \\\n",
       "0     28/5/19,  10:57:45      Las chochas   \n",
       "1     28/5/19,  10:57:45       Lara U-tad   \n",
       "2     28/5/19,  10:57:45      Las chochas   \n",
       "3     28/5/19,  10:58:07       Lara U-tad   \n",
       "4     28/5/19,  10:58:12  Ting Chen U-tad   \n",
       "...        ...       ...              ...   \n",
       "9131  13/2/24,  14:43:21      Jorge U-tad   \n",
       "9132  13/2/24,  14:43:25      Jorge U-tad   \n",
       "9133  13/2/24,  14:43:33      Maria U-tad   \n",
       "9134  13/2/24,  15:15:29       Lara U-tad   \n",
       "9135  13/2/24,  15:16:00  Ting Chen U-tad   \n",
       "\n",
       "                                                Mensaje  \n",
       "0     ‎Los mensajes y las llamadas están cifrados de...  \n",
       "1              ‎Lara U-tad creó el grupo “Las chochas”.  \n",
       "2                                ‎Lara U-tad te añadió.  \n",
       "3                                    María dónde estass  \n",
       "4                                                 Maria  \n",
       "...                                                 ...  \n",
       "9131                         Estas asumiendo mi género?  \n",
       "9132                                  Pues has acertado  \n",
       "9133                                           JAJAJAJA  \n",
       "9134                                  Vaya jajajajajaja  \n",
       "9135                                   Jajajajjajajajaj  \n",
       "\n",
       "[9136 rows x 4 columns]"
      ]
     },
     "execution_count": 18,
     "metadata": {},
     "output_type": "execute_result"
    }
   ],
   "source": [
    "df_chochas"
   ]
  },
  {
   "cell_type": "code",
   "execution_count": 6,
   "id": "0a07da56",
   "metadata": {},
   "outputs": [
    {
     "name": "stdout",
     "output_type": "stream",
     "text": [
      "<class 'pandas.core.frame.DataFrame'>\n",
      "RangeIndex: 9136 entries, 0 to 9135\n",
      "Data columns (total 4 columns):\n",
      " #   Column   Non-Null Count  Dtype \n",
      "---  ------   --------------  ----- \n",
      " 0   Fecha    9136 non-null   object\n",
      " 1   Hora     9136 non-null   object\n",
      " 2   Persona  9136 non-null   object\n",
      " 3   Mensaje  9136 non-null   object\n",
      "dtypes: object(4)\n",
      "memory usage: 285.6+ KB\n"
     ]
    }
   ],
   "source": [
    "df_chochas.info()"
   ]
  },
  {
   "cell_type": "markdown",
   "id": "e6e4bd75",
   "metadata": {},
   "source": [
    "# EDA"
   ]
  },
  {
   "cell_type": "code",
   "execution_count": 7,
   "id": "cf8f79bc",
   "metadata": {},
   "outputs": [
    {
     "name": "stderr",
     "output_type": "stream",
     "text": [
      "/var/folders/1m/9tdt_k994v175ff72qvvlr7r0000gn/T/ipykernel_23197/3877947626.py:11: UserWarning: Glyph 128040 (\\N{KOALA}) missing from current font.\n",
      "  plt.tight_layout()\n",
      "/Users/sil/miniconda3/envs/jupyter_env/lib/python3.10/site-packages/IPython/core/pylabtools.py:151: UserWarning: Glyph 128040 (\\N{KOALA}) missing from current font.\n",
      "  fig.canvas.print_figure(bytes_io, **kw)\n"
     ]
    },
    {
     "data": {
      "image/png": "[encoded data removed]",
      "text/plain": [
       "<Figure size 720x432 with 1 Axes>"
      ]
     },
     "metadata": {
      "needs_background": "light"
     },
     "output_type": "display_data"
    }
   ],
   "source": [
    "# Contar los mensajes por persona\n",
    "conteo_mensajes = df_chochas['Persona'].value_counts()\n",
    "\n",
    "# Visualizar la distribución\n",
    "plt.figure(figsize=(10, 6))\n",
    "conteo_mensajes.plot(kind='bar', color='skyblue')\n",
    "plt.title('Distribución de mensajes por persona')\n",
    "plt.xlabel('Persona')\n",
    "plt.ylabel('Número de mensajes')\n",
    "plt.xticks(rotation=45, ha='right')\n",
    "plt.tight_layout()\n",
    "plt.show()"
   ]
  },
  {
   "cell_type": "code",
   "execution_count": 8,
   "id": "47be677f",
   "metadata": {},
   "outputs": [
    {
     "name": "stderr",
     "output_type": "stream",
     "text": [
      "/var/folders/1m/9tdt_k994v175ff72qvvlr7r0000gn/T/ipykernel_23197/3621043626.py:1: UserWarning: Could not infer format, so each element will be parsed individually, falling back to `dateutil`. To ensure parsing is consistent and as-expected, please specify a format.\n",
      "  df_chochas['Fecha'] = pd.to_datetime(df_chochas['Fecha'] + ' ' + df_chochas['Hora'])\n"
     ]
    },
    {
     "data": {
      "image/png": "[encoded data removed]",
      "text/plain": [
       "<Figure size 864x432 with 1 Axes>"
      ]
     },
     "metadata": {
      "needs_background": "light"
     },
     "output_type": "display_data"
    }
   ],
   "source": [
    "df_chochas['Fecha'] = pd.to_datetime(df_chochas['Fecha'] + ' ' + df_chochas['Hora'])\n",
    "\n",
    "# Agrupar los mensajes por día y contar el número de mensajes en cada día\n",
    "actividad_diaria = df_chochas.groupby(df_chochas['Fecha'].dt.date).size()\n",
    "\n",
    "# Visualizar la actividad del chat a lo largo del tiempo\n",
    "plt.figure(figsize=(12, 6))\n",
    "actividad_diaria.plot(marker='o', color='orange')\n",
    "plt.title('Actividad del chat a lo largo del tiempo (por día)')\n",
    "plt.xlabel('Fecha')\n",
    "plt.ylabel('Número de mensajes')\n",
    "plt.grid(True)\n",
    "plt.tight_layout()\n",
    "plt.show()"
   ]
  },
  {
   "cell_type": "code",
   "execution_count": 9,
   "id": "dba819e5",
   "metadata": {},
   "outputs": [
    {
     "name": "stderr",
     "output_type": "stream",
     "text": [
      "/var/folders/1m/9tdt_k994v175ff72qvvlr7r0000gn/T/ipykernel_23197/4091123046.py:14: UserWarning: Glyph 128040 (\\N{KOALA}) missing from current font.\n",
      "  plt.tight_layout()\n",
      "/Users/sil/miniconda3/envs/jupyter_env/lib/python3.10/site-packages/IPython/core/pylabtools.py:151: UserWarning: Glyph 128040 (\\N{KOALA}) missing from current font.\n",
      "  fig.canvas.print_figure(bytes_io, **kw)\n"
     ]
    },
    {
     "data": {
      "image/png": "[encoded data removed]",
      "text/plain": [
       "<Figure size 720x432 with 1 Axes>"
      ]
     },
     "metadata": {
      "needs_background": "light"
     },
     "output_type": "display_data"
    }
   ],
   "source": [
    "# Calcular la longitud de cada mensaje\n",
    "df_chochas['Longitud del mensaje'] = df_chochas['Mensaje'].apply(len)\n",
    "\n",
    "# Agrupar los mensajes por persona y calcular estadísticas sobre la longitud de los mensajes\n",
    "estadisticas_longitud = df_chochas.groupby('Persona')['Longitud del mensaje'].describe()\n",
    "\n",
    "# Visualizar la distribución de la longitud de los mensajes por persona\n",
    "plt.figure(figsize=(10, 6))\n",
    "estadisticas_longitud['mean'].plot(kind='bar', color='lightblue', alpha=0.7, yerr=estadisticas_longitud['std'])\n",
    "plt.title('Longitud promedio de los mensajes por persona')\n",
    "plt.xlabel('Persona')\n",
    "plt.ylabel('Longitud promedio del mensaje')\n",
    "plt.xticks(rotation=45, ha='right')\n",
    "plt.tight_layout()\n",
    "plt.show()"
   ]
  },
  {
   "cell_type": "code",
   "execution_count": 10,
   "id": "8ebadd81",
   "metadata": {},
   "outputs": [
    {
     "data": {
      "text/plain": [
       "<Figure size 720x432 with 0 Axes>"
      ]
     },
     "metadata": {},
     "output_type": "display_data"
    },
    {
     "data": {
      "image/png": "[encoded data removed]",
      "text/plain": [
       "<Figure size 432x288 with 1 Axes>"
      ]
     },
     "metadata": {
      "needs_background": "light"
     },
     "output_type": "display_data"
    }
   ],
   "source": [
    "# Concatenar todos los mensajes en un solo texto\n",
    "todos_los_mensajes = ' '.join(df_chochas['Mensaje'])\n",
    "\n",
    "# Dividir el texto en palabras individuales\n",
    "palabras = todos_los_mensajes.split()\n",
    "\n",
    "# Contar la frecuencia de cada palabra\n",
    "conteo_palabras = Counter(palabras)\n",
    "\n",
    "# Palabras irrelevantes que quieres eliminar del análisis (opcional)\n",
    "palabras_irrelevantes = ['el', 'la', 'los', 'las', 'de', 'que', 'a', 'y', 'en', 'con', 'Yo', 'me',\n",
    "                         'mí', 'conmigo', 'Nosotros', 'nos', 'nosotras', 'Tú', 'te', 'ti', 'contigo',\n",
    "                         'usted', 'vos', 'Vosotros', 'vosotras', 'os', 'ustedes', 'Él', 'lo', 'le', \n",
    "                         'se', 'sí', 'consigo', 'ella', 'la', 'ello', 'lo', 'Ellos', 'ellas', 'los',\n",
    "                         'las', 'les', 'se', 'un', 'una']\n",
    "\n",
    "# Eliminar palabras irrelevantes del conteo\n",
    "for palabra in palabras_irrelevantes:\n",
    "    del conteo_palabras[palabra]\n",
    "\n",
    "# Obtener las palabras más frecuentes y su frecuencia de aparición\n",
    "palabras_mas_frecuentes = conteo_palabras.most_common(10)\n",
    "\n",
    "# Visualizar las palabras más frecuentes\n",
    "plt.figure(figsize=(10, 6))\n",
    "palabras_df = pd.DataFrame(palabras_mas_frecuentes, columns=['Palabra', 'Frecuencia'])\n",
    "palabras_df.plot(kind='bar', x='Palabra', y='Frecuencia', color='skyblue')\n",
    "plt.title('Palabras más frecuentes en el chat')\n",
    "plt.xlabel('Palabra')\n",
    "plt.ylabel('Frecuencia')\n",
    "plt.xticks(rotation=45, ha='right')\n",
    "plt.tight_layout()\n",
    "plt.show()"
   ]
  },
  {
   "cell_type": "markdown",
   "id": "4716134c",
   "metadata": {},
   "source": [
    "# ANALISIS DE SENTIMIENTOS"
   ]
  },
  {
   "cell_type": "code",
   "execution_count": 19,
   "id": "acc20e63",
   "metadata": {},
   "outputs": [
    {
     "name": "stderr",
     "output_type": "stream",
     "text": [
      "/var/folders/1m/9tdt_k994v175ff72qvvlr7r0000gn/T/ipykernel_23197/2666090415.py:2: UserWarning: Could not infer format, so each element will be parsed individually, falling back to `dateutil`. To ensure parsing is consistent and as-expected, please specify a format.\n",
      "  df_chochas['Fecha'] = pd.to_datetime(df_chochas['Fecha'])\n"
     ]
    },
    {
     "name": "stdout",
     "output_type": "stream",
     "text": [
      "       Fecha      Hora          Persona  \\\n",
      "0 2019-05-28  10:57:45      Las chochas   \n",
      "1 2019-05-28  10:57:45       Lara U-tad   \n",
      "2 2019-05-28  10:57:45      Las chochas   \n",
      "3 2019-05-28  10:58:07       Lara U-tad   \n",
      "4 2019-05-28  10:58:12  Ting Chen U-tad   \n",
      "\n",
      "                                             Mensaje  Positive  Negative  \\\n",
      "0  ‎Los mensajes y las llamadas están cifrados de...       0.0       0.0   \n",
      "1           ‎Lara U-tad creó el grupo “Las chochas”.       0.0       0.0   \n",
      "2                             ‎Lara U-tad te añadió.       0.0       0.0   \n",
      "3                                 María dónde estass       0.0       0.0   \n",
      "4                                              Maria       0.0       0.0   \n",
      "\n",
      "   Neutral  \n",
      "0      1.0  \n",
      "1      1.0  \n",
      "2      1.0  \n",
      "3      1.0  \n",
      "4      1.0  \n"
     ]
    }
   ],
   "source": [
    "df_chochas = pd.DataFrame(df_chochas, columns=[\"Fecha\", 'Hora', 'Persona', 'Mensaje'])\n",
    "df_chochas['Fecha'] = pd.to_datetime(df_chochas['Fecha'])\n",
    "\n",
    "data = df_chochas.dropna()\n",
    "from nltk.sentiment.vader import SentimentIntensityAnalyzer\n",
    "sentiments = SentimentIntensityAnalyzer()\n",
    "data[\"Positive\"] = [sentiments.polarity_scores(i)[\"pos\"] for i in data[\"Mensaje\"]]\n",
    "data[\"Negative\"] = [sentiments.polarity_scores(i)[\"neg\"] for i in data[\"Mensaje\"]]\n",
    "data[\"Neutral\"] = [sentiments.polarity_scores(i)[\"neu\"] for i in data[\"Mensaje\"]]\n",
    "print(data.head())"
   ]
  },
  {
   "cell_type": "code",
   "execution_count": 20,
   "id": "9653a79c",
   "metadata": {},
   "outputs": [
    {
     "name": "stdout",
     "output_type": "stream",
     "text": [
      "Neutral 🙂 \n"
     ]
    }
   ],
   "source": [
    "x = sum(data[\"Positive\"])\n",
    "y = sum(data[\"Negative\"])\n",
    "z = sum(data[\"Neutral\"])\n",
    "\n",
    "def sentiment_score(a, b, c):\n",
    "    if (a>b) and (a>c):\n",
    "        print(\"Positive 😊 \")\n",
    "    elif (b>a) and (b>c):\n",
    "        print(\"Negative 😠 \")\n",
    "    else:\n",
    "        print(\"Neutral 🙂 \")\n",
    "sentiment_score(x, y, z)"
   ]
  },
  {
   "cell_type": "code",
   "execution_count": null,
   "id": "9993c7e9",
   "metadata": {},
   "outputs": [],
   "source": []
  }
 ],
 "metadata": {
  "kernelspec": {
   "display_name": "Python m3_env",
   "language": "python",
   "name": "m3_env"
  },
  "language_info": {
   "codemirror_mode": {
    "name": "ipython",
    "version": 3
   },
   "file_extension": ".py",
   "mimetype": "text/x-python",
   "name": "python",
   "nbconvert_exporter": "python",
   "pygments_lexer": "ipython3",
   "version": "3.10.13"
  }
 },
 "nbformat": 4,
 "nbformat_minor": 5
}
