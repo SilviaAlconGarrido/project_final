{
 "cells": [
  {
   "cell_type": "markdown",
   "id": "d338e188",
   "metadata": {},
   "source": [
    "# Primer notebook para transformar los datos de capi_chat"
   ]
  },
  {
   "cell_type": "code",
   "execution_count": 1,
   "id": "b02f2092",
   "metadata": {},
   "outputs": [],
   "source": [
    "# en este notebook voy a ver como son mis datos, visualizar y ver que puedo hacer."
   ]
  },
  {
   "cell_type": "code",
   "execution_count": 46,
   "id": "44e84e8d",
   "metadata": {},
   "outputs": [
    {
     "name": "stderr",
     "output_type": "stream",
     "text": [
      "[nltk_data] Downloading package vader_lexicon to\n",
      "[nltk_data]     /Users/sil/nltk_data...\n",
      "[nltk_data]   Package vader_lexicon is already up-to-date!\n"
     ]
    },
    {
     "name": "stdout",
     "output_type": "stream",
     "text": [
      "Requirement already satisfied: spacy in /Users/sil/miniconda3/envs/jupyter_env/lib/python3.10/site-packages (3.7.4)\n",
      "Requirement already satisfied: spacy-legacy<3.1.0,>=3.0.11 in /Users/sil/miniconda3/envs/jupyter_env/lib/python3.10/site-packages (from spacy) (3.0.12)\n",
      "Requirement already satisfied: spacy-loggers<2.0.0,>=1.0.0 in /Users/sil/miniconda3/envs/jupyter_env/lib/python3.10/site-packages (from spacy) (1.0.5)\n",
      "Requirement already satisfied: murmurhash<1.1.0,>=0.28.0 in /Users/sil/miniconda3/envs/jupyter_env/lib/python3.10/site-packages (from spacy) (1.0.10)\n",
      "Requirement already satisfied: cymem<2.1.0,>=2.0.2 in /Users/sil/miniconda3/envs/jupyter_env/lib/python3.10/site-packages (from spacy) (2.0.8)\n",
      "Requirement already satisfied: preshed<3.1.0,>=3.0.2 in /Users/sil/miniconda3/envs/jupyter_env/lib/python3.10/site-packages (from spacy) (3.0.9)\n",
      "Requirement already satisfied: thinc<8.3.0,>=8.2.2 in /Users/sil/miniconda3/envs/jupyter_env/lib/python3.10/site-packages (from spacy) (8.2.3)\n",
      "Requirement already satisfied: wasabi<1.2.0,>=0.9.1 in /Users/sil/miniconda3/envs/jupyter_env/lib/python3.10/site-packages (from spacy) (1.1.2)\n",
      "Requirement already satisfied: srsly<3.0.0,>=2.4.3 in /Users/sil/miniconda3/envs/jupyter_env/lib/python3.10/site-packages (from spacy) (2.4.8)\n",
      "Requirement already satisfied: catalogue<2.1.0,>=2.0.6 in /Users/sil/miniconda3/envs/jupyter_env/lib/python3.10/site-packages (from spacy) (2.0.10)\n",
      "Requirement already satisfied: weasel<0.4.0,>=0.1.0 in /Users/sil/miniconda3/envs/jupyter_env/lib/python3.10/site-packages (from spacy) (0.3.4)\n",
      "Requirement already satisfied: typer<0.10.0,>=0.3.0 in /Users/sil/miniconda3/envs/jupyter_env/lib/python3.10/site-packages (from spacy) (0.9.0)\n",
      "Requirement already satisfied: smart-open<7.0.0,>=5.2.1 in /Users/sil/miniconda3/envs/jupyter_env/lib/python3.10/site-packages (from spacy) (6.4.0)\n",
      "Requirement already satisfied: tqdm<5.0.0,>=4.38.0 in /Users/sil/miniconda3/envs/jupyter_env/lib/python3.10/site-packages (from spacy) (4.66.2)\n",
      "Requirement already satisfied: requests<3.0.0,>=2.13.0 in /Users/sil/miniconda3/envs/jupyter_env/lib/python3.10/site-packages (from spacy) (2.31.0)\n",
      "Requirement already satisfied: pydantic!=1.8,!=1.8.1,<3.0.0,>=1.7.4 in /Users/sil/miniconda3/envs/jupyter_env/lib/python3.10/site-packages (from spacy) (2.6.1)\n",
      "Requirement already satisfied: jinja2 in /Users/sil/miniconda3/envs/jupyter_env/lib/python3.10/site-packages (from spacy) (3.0.3)\n",
      "Requirement already satisfied: setuptools in /Users/sil/miniconda3/envs/jupyter_env/lib/python3.10/site-packages (from spacy) (68.0.0)\n",
      "Requirement already satisfied: packaging>=20.0 in /Users/sil/miniconda3/envs/jupyter_env/lib/python3.10/site-packages (from spacy) (21.3)\n",
      "Requirement already satisfied: langcodes<4.0.0,>=3.2.0 in /Users/sil/miniconda3/envs/jupyter_env/lib/python3.10/site-packages (from spacy) (3.3.0)\n",
      "Requirement already satisfied: numpy>=1.19.0 in /Users/sil/miniconda3/envs/jupyter_env/lib/python3.10/site-packages (from spacy) (1.25.2)\n",
      "Requirement already satisfied: pyparsing!=3.0.5,>=2.0.2 in /Users/sil/miniconda3/envs/jupyter_env/lib/python3.10/site-packages (from packaging>=20.0->spacy) (3.0.4)\n",
      "Requirement already satisfied: annotated-types>=0.4.0 in /Users/sil/miniconda3/envs/jupyter_env/lib/python3.10/site-packages (from pydantic!=1.8,!=1.8.1,<3.0.0,>=1.7.4->spacy) (0.6.0)\n",
      "Requirement already satisfied: pydantic-core==2.16.2 in /Users/sil/miniconda3/envs/jupyter_env/lib/python3.10/site-packages (from pydantic!=1.8,!=1.8.1,<3.0.0,>=1.7.4->spacy) (2.16.2)\n",
      "Requirement already satisfied: typing-extensions>=4.6.1 in /Users/sil/miniconda3/envs/jupyter_env/lib/python3.10/site-packages (from pydantic!=1.8,!=1.8.1,<3.0.0,>=1.7.4->spacy) (4.9.0)\n",
      "Requirement already satisfied: charset-normalizer<4,>=2 in /Users/sil/miniconda3/envs/jupyter_env/lib/python3.10/site-packages (from requests<3.0.0,>=2.13.0->spacy) (3.3.2)\n",
      "Requirement already satisfied: idna<4,>=2.5 in /Users/sil/miniconda3/envs/jupyter_env/lib/python3.10/site-packages (from requests<3.0.0,>=2.13.0->spacy) (3.6)\n",
      "Requirement already satisfied: urllib3<3,>=1.21.1 in /Users/sil/miniconda3/envs/jupyter_env/lib/python3.10/site-packages (from requests<3.0.0,>=2.13.0->spacy) (2.2.1)\n",
      "Requirement already satisfied: certifi>=2017.4.17 in /Users/sil/miniconda3/envs/jupyter_env/lib/python3.10/site-packages (from requests<3.0.0,>=2.13.0->spacy) (2023.7.22)\n",
      "Requirement already satisfied: blis<0.8.0,>=0.7.8 in /Users/sil/miniconda3/envs/jupyter_env/lib/python3.10/site-packages (from thinc<8.3.0,>=8.2.2->spacy) (0.7.11)\n",
      "Requirement already satisfied: confection<1.0.0,>=0.0.1 in /Users/sil/miniconda3/envs/jupyter_env/lib/python3.10/site-packages (from thinc<8.3.0,>=8.2.2->spacy) (0.1.4)\n",
      "Requirement already satisfied: click<9.0.0,>=7.1.1 in /Users/sil/miniconda3/envs/jupyter_env/lib/python3.10/site-packages (from typer<0.10.0,>=0.3.0->spacy) (8.1.7)\n",
      "Requirement already satisfied: cloudpathlib<0.17.0,>=0.7.0 in /Users/sil/miniconda3/envs/jupyter_env/lib/python3.10/site-packages (from weasel<0.4.0,>=0.1.0->spacy) (0.16.0)\n",
      "Requirement already satisfied: MarkupSafe>=2.0 in /Users/sil/miniconda3/envs/jupyter_env/lib/python3.10/site-packages (from jinja2->spacy) (2.1.1)\n",
      "Collecting es-core-news-sm==3.7.0\n",
      "  Downloading https://github.com/explosion/spacy-models/releases/download/es_core_news_sm-3.7.0/es_core_news_sm-3.7.0-py3-none-any.whl (12.9 MB)\n",
      "\u001b[2K     \u001b[90m━━━━━━━━━━━━━━━━━━━━━━━━━━━━━━━━━━━━━━━━\u001b[0m \u001b[32m12.9/12.9 MB\u001b[0m \u001b[31m25.9 MB/s\u001b[0m eta \u001b[36m0:00:00\u001b[0m00:01\u001b[0m00:01\u001b[0m\n",
      "\u001b[?25hRequirement already satisfied: spacy<3.8.0,>=3.7.0 in /Users/sil/miniconda3/envs/jupyter_env/lib/python3.10/site-packages (from es-core-news-sm==3.7.0) (3.7.4)\n",
      "Requirement already satisfied: spacy-legacy<3.1.0,>=3.0.11 in /Users/sil/miniconda3/envs/jupyter_env/lib/python3.10/site-packages (from spacy<3.8.0,>=3.7.0->es-core-news-sm==3.7.0) (3.0.12)\n",
      "Requirement already satisfied: spacy-loggers<2.0.0,>=1.0.0 in /Users/sil/miniconda3/envs/jupyter_env/lib/python3.10/site-packages (from spacy<3.8.0,>=3.7.0->es-core-news-sm==3.7.0) (1.0.5)\n",
      "Requirement already satisfied: murmurhash<1.1.0,>=0.28.0 in /Users/sil/miniconda3/envs/jupyter_env/lib/python3.10/site-packages (from spacy<3.8.0,>=3.7.0->es-core-news-sm==3.7.0) (1.0.10)\n",
      "Requirement already satisfied: cymem<2.1.0,>=2.0.2 in /Users/sil/miniconda3/envs/jupyter_env/lib/python3.10/site-packages (from spacy<3.8.0,>=3.7.0->es-core-news-sm==3.7.0) (2.0.8)\n",
      "Requirement already satisfied: preshed<3.1.0,>=3.0.2 in /Users/sil/miniconda3/envs/jupyter_env/lib/python3.10/site-packages (from spacy<3.8.0,>=3.7.0->es-core-news-sm==3.7.0) (3.0.9)\n",
      "Requirement already satisfied: thinc<8.3.0,>=8.2.2 in /Users/sil/miniconda3/envs/jupyter_env/lib/python3.10/site-packages (from spacy<3.8.0,>=3.7.0->es-core-news-sm==3.7.0) (8.2.3)\n",
      "Requirement already satisfied: wasabi<1.2.0,>=0.9.1 in /Users/sil/miniconda3/envs/jupyter_env/lib/python3.10/site-packages (from spacy<3.8.0,>=3.7.0->es-core-news-sm==3.7.0) (1.1.2)\n",
      "Requirement already satisfied: srsly<3.0.0,>=2.4.3 in /Users/sil/miniconda3/envs/jupyter_env/lib/python3.10/site-packages (from spacy<3.8.0,>=3.7.0->es-core-news-sm==3.7.0) (2.4.8)\n",
      "Requirement already satisfied: catalogue<2.1.0,>=2.0.6 in /Users/sil/miniconda3/envs/jupyter_env/lib/python3.10/site-packages (from spacy<3.8.0,>=3.7.0->es-core-news-sm==3.7.0) (2.0.10)\n",
      "Requirement already satisfied: weasel<0.4.0,>=0.1.0 in /Users/sil/miniconda3/envs/jupyter_env/lib/python3.10/site-packages (from spacy<3.8.0,>=3.7.0->es-core-news-sm==3.7.0) (0.3.4)\n",
      "Requirement already satisfied: typer<0.10.0,>=0.3.0 in /Users/sil/miniconda3/envs/jupyter_env/lib/python3.10/site-packages (from spacy<3.8.0,>=3.7.0->es-core-news-sm==3.7.0) (0.9.0)\n",
      "Requirement already satisfied: smart-open<7.0.0,>=5.2.1 in /Users/sil/miniconda3/envs/jupyter_env/lib/python3.10/site-packages (from spacy<3.8.0,>=3.7.0->es-core-news-sm==3.7.0) (6.4.0)\n",
      "Requirement already satisfied: tqdm<5.0.0,>=4.38.0 in /Users/sil/miniconda3/envs/jupyter_env/lib/python3.10/site-packages (from spacy<3.8.0,>=3.7.0->es-core-news-sm==3.7.0) (4.66.2)\n",
      "Requirement already satisfied: requests<3.0.0,>=2.13.0 in /Users/sil/miniconda3/envs/jupyter_env/lib/python3.10/site-packages (from spacy<3.8.0,>=3.7.0->es-core-news-sm==3.7.0) (2.31.0)\n",
      "Requirement already satisfied: pydantic!=1.8,!=1.8.1,<3.0.0,>=1.7.4 in /Users/sil/miniconda3/envs/jupyter_env/lib/python3.10/site-packages (from spacy<3.8.0,>=3.7.0->es-core-news-sm==3.7.0) (2.6.1)\n",
      "Requirement already satisfied: jinja2 in /Users/sil/miniconda3/envs/jupyter_env/lib/python3.10/site-packages (from spacy<3.8.0,>=3.7.0->es-core-news-sm==3.7.0) (3.0.3)\n",
      "Requirement already satisfied: setuptools in /Users/sil/miniconda3/envs/jupyter_env/lib/python3.10/site-packages (from spacy<3.8.0,>=3.7.0->es-core-news-sm==3.7.0) (68.0.0)\n",
      "Requirement already satisfied: packaging>=20.0 in /Users/sil/miniconda3/envs/jupyter_env/lib/python3.10/site-packages (from spacy<3.8.0,>=3.7.0->es-core-news-sm==3.7.0) (21.3)\n",
      "Requirement already satisfied: langcodes<4.0.0,>=3.2.0 in /Users/sil/miniconda3/envs/jupyter_env/lib/python3.10/site-packages (from spacy<3.8.0,>=3.7.0->es-core-news-sm==3.7.0) (3.3.0)\n",
      "Requirement already satisfied: numpy>=1.19.0 in /Users/sil/miniconda3/envs/jupyter_env/lib/python3.10/site-packages (from spacy<3.8.0,>=3.7.0->es-core-news-sm==3.7.0) (1.25.2)\n",
      "Requirement already satisfied: pyparsing!=3.0.5,>=2.0.2 in /Users/sil/miniconda3/envs/jupyter_env/lib/python3.10/site-packages (from packaging>=20.0->spacy<3.8.0,>=3.7.0->es-core-news-sm==3.7.0) (3.0.4)\n"
     ]
    },
    {
     "name": "stdout",
     "output_type": "stream",
     "text": [
      "Requirement already satisfied: annotated-types>=0.4.0 in /Users/sil/miniconda3/envs/jupyter_env/lib/python3.10/site-packages (from pydantic!=1.8,!=1.8.1,<3.0.0,>=1.7.4->spacy<3.8.0,>=3.7.0->es-core-news-sm==3.7.0) (0.6.0)\n",
      "Requirement already satisfied: pydantic-core==2.16.2 in /Users/sil/miniconda3/envs/jupyter_env/lib/python3.10/site-packages (from pydantic!=1.8,!=1.8.1,<3.0.0,>=1.7.4->spacy<3.8.0,>=3.7.0->es-core-news-sm==3.7.0) (2.16.2)\n",
      "Requirement already satisfied: typing-extensions>=4.6.1 in /Users/sil/miniconda3/envs/jupyter_env/lib/python3.10/site-packages (from pydantic!=1.8,!=1.8.1,<3.0.0,>=1.7.4->spacy<3.8.0,>=3.7.0->es-core-news-sm==3.7.0) (4.9.0)\n",
      "Requirement already satisfied: charset-normalizer<4,>=2 in /Users/sil/miniconda3/envs/jupyter_env/lib/python3.10/site-packages (from requests<3.0.0,>=2.13.0->spacy<3.8.0,>=3.7.0->es-core-news-sm==3.7.0) (3.3.2)\n",
      "Requirement already satisfied: idna<4,>=2.5 in /Users/sil/miniconda3/envs/jupyter_env/lib/python3.10/site-packages (from requests<3.0.0,>=2.13.0->spacy<3.8.0,>=3.7.0->es-core-news-sm==3.7.0) (3.6)\n",
      "Requirement already satisfied: urllib3<3,>=1.21.1 in /Users/sil/miniconda3/envs/jupyter_env/lib/python3.10/site-packages (from requests<3.0.0,>=2.13.0->spacy<3.8.0,>=3.7.0->es-core-news-sm==3.7.0) (2.2.1)\n",
      "Requirement already satisfied: certifi>=2017.4.17 in /Users/sil/miniconda3/envs/jupyter_env/lib/python3.10/site-packages (from requests<3.0.0,>=2.13.0->spacy<3.8.0,>=3.7.0->es-core-news-sm==3.7.0) (2023.7.22)\n",
      "Requirement already satisfied: blis<0.8.0,>=0.7.8 in /Users/sil/miniconda3/envs/jupyter_env/lib/python3.10/site-packages (from thinc<8.3.0,>=8.2.2->spacy<3.8.0,>=3.7.0->es-core-news-sm==3.7.0) (0.7.11)\n",
      "Requirement already satisfied: confection<1.0.0,>=0.0.1 in /Users/sil/miniconda3/envs/jupyter_env/lib/python3.10/site-packages (from thinc<8.3.0,>=8.2.2->spacy<3.8.0,>=3.7.0->es-core-news-sm==3.7.0) (0.1.4)\n",
      "Requirement already satisfied: click<9.0.0,>=7.1.1 in /Users/sil/miniconda3/envs/jupyter_env/lib/python3.10/site-packages (from typer<0.10.0,>=0.3.0->spacy<3.8.0,>=3.7.0->es-core-news-sm==3.7.0) (8.1.7)\n",
      "Requirement already satisfied: cloudpathlib<0.17.0,>=0.7.0 in /Users/sil/miniconda3/envs/jupyter_env/lib/python3.10/site-packages (from weasel<0.4.0,>=0.1.0->spacy<3.8.0,>=3.7.0->es-core-news-sm==3.7.0) (0.16.0)\n",
      "Requirement already satisfied: MarkupSafe>=2.0 in /Users/sil/miniconda3/envs/jupyter_env/lib/python3.10/site-packages (from jinja2->spacy<3.8.0,>=3.7.0->es-core-news-sm==3.7.0) (2.1.1)\n",
      "\u001b[38;5;2m✔ Download and installation successful\u001b[0m\n",
      "You can now load the package via spacy.load('es_core_news_sm')\n",
      "Requirement already satisfied: spacy in /Users/sil/miniconda3/envs/jupyter_env/lib/python3.10/site-packages (3.7.4)\n",
      "Requirement already satisfied: spacy-legacy<3.1.0,>=3.0.11 in /Users/sil/miniconda3/envs/jupyter_env/lib/python3.10/site-packages (from spacy) (3.0.12)\n",
      "Requirement already satisfied: spacy-loggers<2.0.0,>=1.0.0 in /Users/sil/miniconda3/envs/jupyter_env/lib/python3.10/site-packages (from spacy) (1.0.5)\n",
      "Requirement already satisfied: murmurhash<1.1.0,>=0.28.0 in /Users/sil/miniconda3/envs/jupyter_env/lib/python3.10/site-packages (from spacy) (1.0.10)\n",
      "Requirement already satisfied: cymem<2.1.0,>=2.0.2 in /Users/sil/miniconda3/envs/jupyter_env/lib/python3.10/site-packages (from spacy) (2.0.8)\n",
      "Requirement already satisfied: preshed<3.1.0,>=3.0.2 in /Users/sil/miniconda3/envs/jupyter_env/lib/python3.10/site-packages (from spacy) (3.0.9)\n",
      "Requirement already satisfied: thinc<8.3.0,>=8.2.2 in /Users/sil/miniconda3/envs/jupyter_env/lib/python3.10/site-packages (from spacy) (8.2.3)\n",
      "Requirement already satisfied: wasabi<1.2.0,>=0.9.1 in /Users/sil/miniconda3/envs/jupyter_env/lib/python3.10/site-packages (from spacy) (1.1.2)\n",
      "Requirement already satisfied: srsly<3.0.0,>=2.4.3 in /Users/sil/miniconda3/envs/jupyter_env/lib/python3.10/site-packages (from spacy) (2.4.8)\n",
      "Requirement already satisfied: catalogue<2.1.0,>=2.0.6 in /Users/sil/miniconda3/envs/jupyter_env/lib/python3.10/site-packages (from spacy) (2.0.10)\n",
      "Requirement already satisfied: weasel<0.4.0,>=0.1.0 in /Users/sil/miniconda3/envs/jupyter_env/lib/python3.10/site-packages (from spacy) (0.3.4)\n",
      "Requirement already satisfied: typer<0.10.0,>=0.3.0 in /Users/sil/miniconda3/envs/jupyter_env/lib/python3.10/site-packages (from spacy) (0.9.0)\n",
      "Requirement already satisfied: smart-open<7.0.0,>=5.2.1 in /Users/sil/miniconda3/envs/jupyter_env/lib/python3.10/site-packages (from spacy) (6.4.0)\n",
      "Requirement already satisfied: tqdm<5.0.0,>=4.38.0 in /Users/sil/miniconda3/envs/jupyter_env/lib/python3.10/site-packages (from spacy) (4.66.2)\n",
      "Requirement already satisfied: requests<3.0.0,>=2.13.0 in /Users/sil/miniconda3/envs/jupyter_env/lib/python3.10/site-packages (from spacy) (2.31.0)\n",
      "Requirement already satisfied: pydantic!=1.8,!=1.8.1,<3.0.0,>=1.7.4 in /Users/sil/miniconda3/envs/jupyter_env/lib/python3.10/site-packages (from spacy) (2.6.1)\n",
      "Requirement already satisfied: jinja2 in /Users/sil/miniconda3/envs/jupyter_env/lib/python3.10/site-packages (from spacy) (3.0.3)\n",
      "Requirement already satisfied: setuptools in /Users/sil/miniconda3/envs/jupyter_env/lib/python3.10/site-packages (from spacy) (68.0.0)\n",
      "Requirement already satisfied: packaging>=20.0 in /Users/sil/miniconda3/envs/jupyter_env/lib/python3.10/site-packages (from spacy) (21.3)\n",
      "Requirement already satisfied: langcodes<4.0.0,>=3.2.0 in /Users/sil/miniconda3/envs/jupyter_env/lib/python3.10/site-packages (from spacy) (3.3.0)\n",
      "Requirement already satisfied: numpy>=1.19.0 in /Users/sil/miniconda3/envs/jupyter_env/lib/python3.10/site-packages (from spacy) (1.25.2)\n",
      "Requirement already satisfied: pyparsing!=3.0.5,>=2.0.2 in /Users/sil/miniconda3/envs/jupyter_env/lib/python3.10/site-packages (from packaging>=20.0->spacy) (3.0.4)\n",
      "Requirement already satisfied: annotated-types>=0.4.0 in /Users/sil/miniconda3/envs/jupyter_env/lib/python3.10/site-packages (from pydantic!=1.8,!=1.8.1,<3.0.0,>=1.7.4->spacy) (0.6.0)\n",
      "Requirement already satisfied: pydantic-core==2.16.2 in /Users/sil/miniconda3/envs/jupyter_env/lib/python3.10/site-packages (from pydantic!=1.8,!=1.8.1,<3.0.0,>=1.7.4->spacy) (2.16.2)\n",
      "Requirement already satisfied: typing-extensions>=4.6.1 in /Users/sil/miniconda3/envs/jupyter_env/lib/python3.10/site-packages (from pydantic!=1.8,!=1.8.1,<3.0.0,>=1.7.4->spacy) (4.9.0)\n",
      "Requirement already satisfied: charset-normalizer<4,>=2 in /Users/sil/miniconda3/envs/jupyter_env/lib/python3.10/site-packages (from requests<3.0.0,>=2.13.0->spacy) (3.3.2)\n",
      "Requirement already satisfied: idna<4,>=2.5 in /Users/sil/miniconda3/envs/jupyter_env/lib/python3.10/site-packages (from requests<3.0.0,>=2.13.0->spacy) (3.6)\n",
      "Requirement already satisfied: urllib3<3,>=1.21.1 in /Users/sil/miniconda3/envs/jupyter_env/lib/python3.10/site-packages (from requests<3.0.0,>=2.13.0->spacy) (2.2.1)\n",
      "Requirement already satisfied: certifi>=2017.4.17 in /Users/sil/miniconda3/envs/jupyter_env/lib/python3.10/site-packages (from requests<3.0.0,>=2.13.0->spacy) (2023.7.22)\n",
      "Requirement already satisfied: blis<0.8.0,>=0.7.8 in /Users/sil/miniconda3/envs/jupyter_env/lib/python3.10/site-packages (from thinc<8.3.0,>=8.2.2->spacy) (0.7.11)\n",
      "Requirement already satisfied: confection<1.0.0,>=0.0.1 in /Users/sil/miniconda3/envs/jupyter_env/lib/python3.10/site-packages (from thinc<8.3.0,>=8.2.2->spacy) (0.1.4)\n",
      "Requirement already satisfied: click<9.0.0,>=7.1.1 in /Users/sil/miniconda3/envs/jupyter_env/lib/python3.10/site-packages (from typer<0.10.0,>=0.3.0->spacy) (8.1.7)\n",
      "Requirement already satisfied: cloudpathlib<0.17.0,>=0.7.0 in /Users/sil/miniconda3/envs/jupyter_env/lib/python3.10/site-packages (from weasel<0.4.0,>=0.1.0->spacy) (0.16.0)\n",
      "Requirement already satisfied: MarkupSafe>=2.0 in /Users/sil/miniconda3/envs/jupyter_env/lib/python3.10/site-packages (from jinja2->spacy) (2.1.1)\n"
     ]
    }
   ],
   "source": [
    "import warnings\n",
    "warnings.filterwarnings('ignore')\n",
    "\n",
    "import numpy as np\n",
    "import pandas as pd\n",
    "\n",
    "import re\n",
    "import csv\n",
    "\n",
    "import pandas as pd\n",
    "import matplotlib.pyplot as plt\n",
    "\n",
    "from collections import Counter\n",
    "\n",
    "import nltk\n",
    "nltk.download('vader_lexicon')\n",
    "from nltk.sentiment.vader import SentimentIntensityAnalyzer\n",
    "from nltk.tokenize.toktok import ToktokTokenizer\n",
    "\n",
    "!pip install spacy\n",
    "!python -m spacy download es_core_news_sm\n",
    "!pip install --upgrade spacy\n",
    "import spacy\n",
    "\n",
    "# Cargar el modelo de lenguaje en español\n",
    "nlp = spacy.load(\"es_core_news_sm\")\n",
    "\n"
   ]
  },
  {
   "cell_type": "code",
   "execution_count": 47,
   "id": "6710f980",
   "metadata": {},
   "outputs": [],
   "source": [
    "#para la ortografia\n",
    "import enchant"
   ]
  },
  {
   "cell_type": "code",
   "execution_count": 38,
   "id": "e9fbe02e",
   "metadata": {},
   "outputs": [],
   "source": [
    "# Empezamos llamando a los datos."
   ]
  },
  {
   "cell_type": "code",
   "execution_count": 39,
   "id": "1454d0f8",
   "metadata": {},
   "outputs": [
    {
     "name": "stdout",
     "output_type": "stream",
     "text": [
      "El archivo TXT se ha convertido exitosamente a CSV.\n"
     ]
    }
   ],
   "source": [
    "# Ruta al archivo de texto que deseas convertir\n",
    "archivo_txt = '../data/capi_chat.txt'\n",
    "\n",
    "# Ruta al archivo CSV de salida\n",
    "archivo_csv = '../data/capi_chat.csv'\n",
    "\n",
    "# Patrón de expresión regular para buscar la fecha, hora, persona y mensaje\n",
    "patron = r'\\[(.*?)\\] (.*?): (.*)'\n",
    "\n",
    "# Lee el archivo de texto y escribe los datos en un archivo CSV\n",
    "with open(archivo_txt, 'r') as txt_file, open(archivo_csv, 'w', newline='') as csv_file:\n",
    "    # Crea un objeto de escritura de CSV\n",
    "    writer = csv.writer(csv_file)\n",
    "    # Escribe el encabezado del CSV\n",
    "    writer.writerow([\"Fecha\", \"Hora\", \"Persona\", \"Mensaje\"])\n",
    "    \n",
    "    # Procesa cada línea del archivo de texto\n",
    "    for linea in txt_file:\n",
    "        # Busca coincidencias con el patrón de expresión regular\n",
    "        match = re.match(patron, linea)\n",
    "        \n",
    "        # Si hay una coincidencia, extrae la información\n",
    "        if match:\n",
    "            fecha_hora, persona, mensaje = match.groups()\n",
    "            fecha, hora = fecha_hora.split()\n",
    "            \n",
    "            # Escribe los datos en el archivo CSV\n",
    "            writer.writerow([fecha, hora, persona, mensaje])\n",
    "\n",
    "print(\"El archivo TXT se ha convertido exitosamente a CSV.\")\n"
   ]
  },
  {
   "cell_type": "code",
   "execution_count": 40,
   "id": "b5f1da89",
   "metadata": {},
   "outputs": [],
   "source": [
    "df = pd.read_csv(\"../data/capi_chat.csv\")\n"
   ]
  },
  {
   "cell_type": "code",
   "execution_count": 41,
   "id": "4219e4d4",
   "metadata": {},
   "outputs": [
    {
     "data": {
      "text/html": [
       "<div>\n",
       "<style scoped>\n",
       "    .dataframe tbody tr th:only-of-type {\n",
       "        vertical-align: middle;\n",
       "    }\n",
       "\n",
       "    .dataframe tbody tr th {\n",
       "        vertical-align: top;\n",
       "    }\n",
       "\n",
       "    .dataframe thead th {\n",
       "        text-align: right;\n",
       "    }\n",
       "</style>\n",
       "<table border=\"1\" class=\"dataframe\">\n",
       "  <thead>\n",
       "    <tr style=\"text-align: right;\">\n",
       "      <th></th>\n",
       "      <th>Fecha</th>\n",
       "      <th>Hora</th>\n",
       "      <th>Persona</th>\n",
       "      <th>Mensaje</th>\n",
       "    </tr>\n",
       "  </thead>\n",
       "  <tbody>\n",
       "    <tr>\n",
       "      <th>0</th>\n",
       "      <td>30/11/23,</td>\n",
       "      <td>19:12:50</td>\n",
       "      <td>Capibaras Ironhack</td>\n",
       "      <td>‎Los mensajes y las llamadas están cifrados de...</td>\n",
       "    </tr>\n",
       "    <tr>\n",
       "      <th>1</th>\n",
       "      <td>30/11/23,</td>\n",
       "      <td>19:12:50</td>\n",
       "      <td>Alana Ironhack</td>\n",
       "      <td>‎Alana Ironhack creó el grupo “Capibaras Ironh...</td>\n",
       "    </tr>\n",
       "    <tr>\n",
       "      <th>2</th>\n",
       "      <td>30/11/23,</td>\n",
       "      <td>19:12:50</td>\n",
       "      <td>Capibaras Ironhack</td>\n",
       "      <td>‎Alana Ironhack te añadió.</td>\n",
       "    </tr>\n",
       "    <tr>\n",
       "      <th>3</th>\n",
       "      <td>30/11/23,</td>\n",
       "      <td>19:12:56</td>\n",
       "      <td>Alana Ironhack</td>\n",
       "      <td>Hola</td>\n",
       "    </tr>\n",
       "    <tr>\n",
       "      <th>4</th>\n",
       "      <td>30/11/23,</td>\n",
       "      <td>19:13:12</td>\n",
       "      <td>Alana Ironhack</td>\n",
       "      <td>Les paso las fotos de ayer prepárense xq es un...</td>\n",
       "    </tr>\n",
       "    <tr>\n",
       "      <th>5</th>\n",
       "      <td>30/11/23,</td>\n",
       "      <td>20:22:19</td>\n",
       "      <td>~ Teresa</td>\n",
       "      <td>Es un bombardeo que nos ahorra prácticamente u...</td>\n",
       "    </tr>\n",
       "    <tr>\n",
       "      <th>6</th>\n",
       "      <td>30/11/23,</td>\n",
       "      <td>20:22:38</td>\n",
       "      <td>Alana Ironhack</td>\n",
       "      <td>Jajaja</td>\n",
       "    </tr>\n",
       "    <tr>\n",
       "      <th>7</th>\n",
       "      <td>30/11/23,</td>\n",
       "      <td>20:32:18</td>\n",
       "      <td>Sil🐨</td>\n",
       "      <td>Muchas gracias!</td>\n",
       "    </tr>\n",
       "    <tr>\n",
       "      <th>8</th>\n",
       "      <td>1/12/23,</td>\n",
       "      <td>17:10:16</td>\n",
       "      <td>~ Teresa</td>\n",
       "      <td>Fan del icono del grupo</td>\n",
       "    </tr>\n",
       "    <tr>\n",
       "      <th>9</th>\n",
       "      <td>1/12/23,</td>\n",
       "      <td>17:11:26</td>\n",
       "      <td>~ Teresa</td>\n",
       "      <td>Entregue el lab sin el último ejercicio del fa...</td>\n",
       "    </tr>\n",
       "  </tbody>\n",
       "</table>\n",
       "</div>"
      ],
      "text/plain": [
       "       Fecha      Hora             Persona  \\\n",
       "0  30/11/23,  19:12:50  Capibaras Ironhack   \n",
       "1  30/11/23,  19:12:50      Alana Ironhack   \n",
       "2  30/11/23,  19:12:50  Capibaras Ironhack   \n",
       "3  30/11/23,  19:12:56      Alana Ironhack   \n",
       "4  30/11/23,  19:13:12      Alana Ironhack   \n",
       "5  30/11/23,  20:22:19            ~ Teresa   \n",
       "6  30/11/23,  20:22:38      Alana Ironhack   \n",
       "7  30/11/23,  20:32:18                Sil🐨   \n",
       "8   1/12/23,  17:10:16            ~ Teresa   \n",
       "9   1/12/23,  17:11:26            ~ Teresa   \n",
       "\n",
       "                                             Mensaje  \n",
       "0  ‎Los mensajes y las llamadas están cifrados de...  \n",
       "1  ‎Alana Ironhack creó el grupo “Capibaras Ironh...  \n",
       "2                         ‎Alana Ironhack te añadió.  \n",
       "3                                               Hola  \n",
       "4  Les paso las fotos de ayer prepárense xq es un...  \n",
       "5  Es un bombardeo que nos ahorra prácticamente u...  \n",
       "6                                             Jajaja  \n",
       "7                                    Muchas gracias!  \n",
       "8                            Fan del icono del grupo  \n",
       "9  Entregue el lab sin el último ejercicio del fa...  "
      ]
     },
     "execution_count": 41,
     "metadata": {},
     "output_type": "execute_result"
    }
   ],
   "source": [
    "df.head(10)"
   ]
  },
  {
   "cell_type": "code",
   "execution_count": 10,
   "id": "31598c53",
   "metadata": {},
   "outputs": [
    {
     "name": "stdout",
     "output_type": "stream",
     "text": [
      "<class 'pandas.core.frame.DataFrame'>\n",
      "RangeIndex: 1774 entries, 0 to 1773\n",
      "Data columns (total 4 columns):\n",
      " #   Column   Non-Null Count  Dtype \n",
      "---  ------   --------------  ----- \n",
      " 0   Fecha    1774 non-null   object\n",
      " 1   Hora     1774 non-null   object\n",
      " 2   Persona  1774 non-null   object\n",
      " 3   Mensaje  1774 non-null   object\n",
      "dtypes: object(4)\n",
      "memory usage: 55.6+ KB\n"
     ]
    }
   ],
   "source": [
    "df.info()"
   ]
  },
  {
   "cell_type": "code",
   "execution_count": 11,
   "id": "bf416332",
   "metadata": {},
   "outputs": [
    {
     "data": {
      "text/plain": [
       "(1774, 4)"
      ]
     },
     "execution_count": 11,
     "metadata": {},
     "output_type": "execute_result"
    }
   ],
   "source": [
    "df.shape"
   ]
  },
  {
   "cell_type": "code",
   "execution_count": 12,
   "id": "59eb2c49",
   "metadata": {},
   "outputs": [
    {
     "data": {
      "text/plain": [
       "Fecha      1774\n",
       "Hora       1774\n",
       "Persona    1774\n",
       "Mensaje    1774\n",
       "dtype: int64"
      ]
     },
     "execution_count": 12,
     "metadata": {},
     "output_type": "execute_result"
    }
   ],
   "source": [
    "df.count()      # Used to count the number of rows"
   ]
  },
  {
   "cell_type": "code",
   "execution_count": 32,
   "id": "07352f89",
   "metadata": {},
   "outputs": [
    {
     "name": "stdout",
     "output_type": "stream",
     "text": [
      "number of duplicate rows:  (0, 4)\n"
     ]
    }
   ],
   "source": [
    "duplicate_rows_df = df[df.duplicated()]\n",
    "print(\"number of duplicate rows: \", duplicate_rows_df.shape)\n"
   ]
  },
  {
   "cell_type": "markdown",
   "id": "e6444b55",
   "metadata": {},
   "source": [
    "# LIMPIEZA "
   ]
  },
  {
   "cell_type": "code",
   "execution_count": null,
   "id": "a4424eb5",
   "metadata": {},
   "outputs": [],
   "source": [
    "#He probado con los datos que ya tengo a hacer un analisis y el resultado es que todo\n",
    "#da neutro, voy a probar a hacer una limpieza mas profunda."
   ]
  },
  {
   "cell_type": "code",
   "execution_count": 25,
   "id": "95a25548",
   "metadata": {},
   "outputs": [],
   "source": [
    "#from contracciones import CONTRACTION_MAP "
   ]
  },
  {
   "cell_type": "code",
   "execution_count": 48,
   "id": "c0e601ae",
   "metadata": {},
   "outputs": [],
   "source": [
    "mapeo_abreviaturas = {\n",
    "\"xq\": \"porque\",\n",
    "\"Holiiii\": \"Hola\",\n",
    "\"sticker omitido\": \"imagen\",\n",
    "\"imagen omitida\": \"imagen\",\n",
    "\"q\": \"que\",\n",
    "\"X\": \"por\",\n",
    "\"x\": \"por\",\n",
    "\"esq\": \"es que\",\n",
    "\"GIF omitido\": \"GIF\",\n",
    "\"Valee\": \"vale\",\n",
    "\"perfe\": \"perfecto\",\n",
    "\"Siiii\": \"Si\",\n",
    "\"siii\": \"Si\",\n",
    "\"Ayyy\":\"Ay\",\n",
    "\"proque\": \"porque\",\n",
    "\"nose\": \"no se\",\n",
    "\"sii\": \"si\",\n",
    "\"tmbn\": \"tambien\",\n",
    "\"lab\": \"laboratorio\",\n",
    "\"labs\": \"labboratotios\",\n",
    "\"lst\": \"lista\",\n",
    "\"reu\": \"reunion\",\n",
    "\"michi\": \"gato\",\n",
    "\"jaajaaj\": \"jajajajaja\",\n",
    "\"xd\": \"risa\",\n",
    "\"capiiis\": \"capi\",\n",
    "\"smpr\": \"siempre\",\n",
    "\"Noup\": \"No\",\n",
    "\"okii\": \"vale\",\n",
    "\"year\": \"año\",\n",
    "\"string\": \"letras\",\n",
    "\"colorinchis\": \"colores\",\n",
    "\"pull request\": \"subir\",\n",
    "\"LOL\": \"risa a carcajadas\",\n",
    "\"Wsp\": \"WhatsApp\",\n",
    "\"Wasap\": \"WhatsApp\",\n",
    "\"wa\": \"WhatsApp\",\n",
    "\"Guasap\": \"WhatsApp\",\n",
    "\"Pq\": \"porque\",\n",
    "\"Xq\": \"porque\",\n",
    "\"q\": \"que\",\n",
    "\"Dnd\": \"donde\",\n",
    "\"K\": \"que\",\n",
    "\"T\": \"te\",\n",
    "\"+/-\": \"mas o menos\",\n",
    "\"Nd\": \"nada\",\n",
    "\"Vdd\": \"verdad\",\n",
    "\"Ntp\": \"no te preocupes\",\n",
    "\"Tqm\": \"Te quiero mucho\",\n",
    "\"Tq\": \"Te quiero\",\n",
    "\"Tmb\": \"tambien\",\n",
    "\"Dps\": \"despues\",\n",
    "\"Xfa\": \"por favor\",\n",
    "\"Dd\": \"donde\",\n",
    "\"Oki\": \"vale\",\n",
    "\"Ok\": \"vale\",\n",
    "\"OK\": \"vale\",\n",
    "\"Tkt\": \"tranquilo\",\n",
    "\"Tqg\": \"te quiero un monton\",\n",
    "\"Bss\": \"besos\",\n",
    "\"Tmbn\": \"tambien\",\n",
    "\"Fvr\": \"favor\",\n",
    "\"Msj\": \"mensaje\",\n",
    "\"LMAO\": \"risa\",\n",
    "\"BRB\": \"Vuelvo enseguida\",\n",
    "\"IDK\": \"no se\",\n",
    "\"idk\": \"no se\",\n",
    "\"ASAP\": \"tan pronto como sea posible\",\n",
    "\"OMG\": \"Oh Dios mio\",\n",
    "\"BFF\": \"Mejores amigos para siempre\",\n",
    "\"Okey\": \"vale\",\n",
    "}"
   ]
  },
  {
   "cell_type": "code",
   "execution_count": 49,
   "id": "2e13217d",
   "metadata": {},
   "outputs": [
    {
     "name": "stdout",
     "output_type": "stream",
     "text": [
      "Serie original:\n",
      "0       ‎Los mensajes y las llamadas están cifrados de...\n",
      "1       ‎Alana Ironhack creó el grupo “Capibaras Ironh...\n",
      "2                              ‎Alana Ironhack te añadió.\n",
      "3                                                    Hola\n",
      "4       Les paso las fotos de ayer prepárense xq es un...\n",
      "                              ...                        \n",
      "1769    No y que también pensaba que esos días que íba...\n",
      "1770                                                Jajaj\n",
      "1771                             Disfrutar de tu libertad\n",
      "1772                                           JAJAJAJAJA\n",
      "1773                                                  Así\n",
      "Name: Mensaje, Length: 1774, dtype: object\n",
      "\n",
      "Serie corregida:\n",
      "0       ‎Los mensajes y las llamadas están cifrados de...\n",
      "1       ‎Alana Ironhack creó el grupo “Capibaras Ironh...\n",
      "2                              ‎Alana Ironhack te añadió.\n",
      "3                                                    Hola\n",
      "4       Les paso las fotos de ayer prepárense porque e...\n",
      "                              ...                        \n",
      "1769    No y que también pensaba que esos días que íba...\n",
      "1770                                                Jajaj\n",
      "1771                             Disfrutar de tu libertad\n",
      "1772                                           JAJAJAJAJA\n",
      "1773                                                  Así\n",
      "Name: Mensaje, Length: 1774, dtype: object\n"
     ]
    }
   ],
   "source": [
    "# Función para corregir abreviaturas en un texto\n",
    "def corregir_abreviaturas(texto, mapeo_abreviaturas):\n",
    "    palabras = texto.split()\n",
    "    texto_corregido = []\n",
    "    for palabra in palabras:\n",
    "        palabra_corregida = mapeo_abreviaturas.get(palabra.lower(), palabra)\n",
    "        texto_corregido.append(palabra_corregida)\n",
    "    return ' '.join(texto_corregido)\n",
    "\n",
    "# Mi Serie de Pandas del df, nos quedamos con mensaje \n",
    "texto = df['Mensaje']\n",
    "\n",
    "# Aplicar la función de corrección de abreviaturas a cada elemento de la Serie\n",
    "serie_corregida = texto.apply(lambda texto: corregir_abreviaturas(texto, mapeo_abreviaturas))\n",
    "\n",
    "# Mostrar los resultados\n",
    "print(\"Serie original:\")\n",
    "print(texto)\n",
    "print(\"\\nSerie corregida:\")\n",
    "print(serie_corregida)"
   ]
  },
  {
   "cell_type": "markdown",
   "id": "87ef3da3",
   "metadata": {},
   "source": [
    "Correción gramatical"
   ]
  },
  {
   "cell_type": "code",
   "execution_count": 50,
   "id": "8804d212",
   "metadata": {},
   "outputs": [
    {
     "data": {
      "text/plain": [
       "0     ‎Los mensajes y las llamadas están cifrados de...\n",
       "1     ‎Alana Ironhack creó el grupo “Capibaras Ironh...\n",
       "2                            ‎Alana Ironhack te añadió.\n",
       "3                                                  Hola\n",
       "4     Les paso las fotos de ayer prepárense porque e...\n",
       "5     Es un bombardeo que nos ahorra prácticamente u...\n",
       "6                                                Jajaja\n",
       "7                                       Muchas gracias!\n",
       "8                               Fan del icono del grupo\n",
       "9     Entregue el laboratorio sin el último ejercici...\n",
       "10                     Hola no lo había pero me encanta\n",
       "11    Yo hoy lo termino, que hay una cosa de una y l...\n",
       "12    Qué bueno que Rosella ha reconocido tu buen tr...\n",
       "13                   Ahora soy yo la Capibara enferma 🤧\n",
       "14    por cierto al final si me quedo mañana ( si no...\n",
       "Name: Mensaje, dtype: object"
      ]
     },
     "execution_count": 50,
     "metadata": {},
     "output_type": "execute_result"
    }
   ],
   "source": [
    "serie_corregida.head(15)"
   ]
  },
  {
   "cell_type": "code",
   "execution_count": 51,
   "id": "6aef3929",
   "metadata": {},
   "outputs": [
    {
     "name": "stdout",
     "output_type": "stream",
     "text": [
      "Serie original:\n",
      "0       ‎Los mensajes y las llamadas están cifrados de...\n",
      "1       ‎Alana Ironhack creó el grupo “Capibaras Ironh...\n",
      "2                              ‎Alana Ironhack te añadió.\n",
      "3                                                    Hola\n",
      "4       Les paso las fotos de ayer prepárense xq es un...\n",
      "                              ...                        \n",
      "1769    No y que también pensaba que esos días que íba...\n",
      "1770                                                Jajaj\n",
      "1771                             Disfrutar de tu libertad\n",
      "1772                                           JAJAJAJAJA\n",
      "1773                                                  Así\n",
      "Name: Mensaje, Length: 1774, dtype: object\n",
      "\n",
      "Serie corregida:\n",
      "0       ‎Los mensajes y las llamadas están cifrados de...\n",
      "1       ‎Alana Ironhack creó el grupo “Capibaras Ironh...\n",
      "2                              ‎Alana Ironhack te añadió.\n",
      "3                                                    Hola\n",
      "4       Les paso las fotos de ayer prepárense xq es un...\n",
      "                              ...                        \n",
      "1769    No y que también pensaba que esos días que íba...\n",
      "1770                                                Jajaj\n",
      "1771                             Disfrutar de tu libertad\n",
      "1772                                           JAJAJAJAJA\n",
      "1773                                                  Así\n",
      "Name: Mensaje, Length: 1774, dtype: object\n"
     ]
    }
   ],
   "source": [
    "# Crear un corrector ortográfico para el idioma deseado (español)\n",
    "corrector_ortografico = enchant.Dict(\"es_ES\")\n",
    "\n",
    "# Función para corregir las faltas de ortografía en un texto\n",
    "def corregir_ortografia(texto):\n",
    "    palabras = texto.split()\n",
    "    texto_corregido = []\n",
    "    for palabra in palabras:\n",
    "        if not corrector_ortografico.check(palabra):\n",
    "            sugerencias = corrector_ortografico.suggest(palabra)\n",
    "            if sugerencias:\n",
    "                palabra_corregida = sugerencias[0]  # Tomar la primera sugerencia\n",
    "                texto_corregido.append(palabra_corregida)\n",
    "            else:\n",
    "                texto_corregido.append(palabra)  # Mantener la palabra original si no hay sugerencias\n",
    "        else:\n",
    "            texto_corregido.append(palabra)  # Mantener la palabra original si está correctamente escrita\n",
    "    return ' '.join(texto_corregido)\n",
    "\n",
    "# Serie de Pandas\n",
    "texto = df['Mensaje']\n",
    "\n",
    "# Aplicar la función de corrección ortográfica a cada elemento de la Serie\n",
    "texto_corregido = texto.apply(corregir_ortografia)\n",
    "\n",
    "# Mostrar los resultados\n",
    "print(\"Serie original:\")\n",
    "print(texto)\n",
    "print(\"\\nSerie corregida:\")\n",
    "print(texto_corregido)"
   ]
  },
  {
   "cell_type": "code",
   "execution_count": 18,
   "id": "8e687978",
   "metadata": {},
   "outputs": [
    {
     "data": {
      "text/plain": [
       "0    ‎Los mensajes y las llamadas están cifrados de...\n",
       "1    ‎Alana Ironhack creó el grupo “Capibaras Ironh...\n",
       "2                           ‎Alana Ironhack te añadió.\n",
       "3                                                Hilos\n",
       "4    Les paso las fotos de ayer prepárense xq es un...\n",
       "5    Es un bombardeo que nos ahorra prácticamente u...\n",
       "6                                               Jajaja\n",
       "7                                      Muchas gracias!\n",
       "8                              Fan del icono del grupo\n",
       "9    Entregue el lab sin el último ejercicio del fa...\n",
       "Name: Mensaje, dtype: object"
      ]
     },
     "execution_count": 18,
     "metadata": {},
     "output_type": "execute_result"
    }
   ],
   "source": [
    "texto_corregido.head(10)"
   ]
  },
  {
   "cell_type": "code",
   "execution_count": null,
   "id": "98ae9552",
   "metadata": {},
   "outputs": [],
   "source": [
    "1ºTrasforma algunas palabras mal( como: Holiiss / Hilos y no reconoce xq)\n",
    "Hay que cambiar las contracciones antes"
   ]
  },
  {
   "cell_type": "code",
   "execution_count": null,
   "id": "ccdc27b2",
   "metadata": {},
   "outputs": [],
   "source": [
    "2ºfunciona pero algunas palabras como holii me las sigue transformando en Hilos.\n",
    "probaremos con otra cosa."
   ]
  },
  {
   "cell_type": "code",
   "execution_count": null,
   "id": "a7c1cef2",
   "metadata": {},
   "outputs": [],
   "source": [
    "# ELIMINACION DE CARACTERES ESPECIALES ?!"
   ]
  },
  {
   "cell_type": "code",
   "execution_count": 55,
   "id": "fdd135c6",
   "metadata": {},
   "outputs": [
    {
     "data": {
      "text/plain": [
       "pandas.core.series.Series"
      ]
     },
     "execution_count": 55,
     "metadata": {},
     "output_type": "execute_result"
    }
   ],
   "source": [
    "texto_corregido"
   ]
  },
  {
   "cell_type": "code",
   "execution_count": 56,
   "id": "75c85881",
   "metadata": {},
   "outputs": [
    {
     "name": "stdout",
     "output_type": "stream",
     "text": [
      "Serie original:\n",
      "0       ‎Los mensajes y las llamadas están cifrados de...\n",
      "1       ‎Alana Ironhack creó el grupo “Capibaras Ironh...\n",
      "2                              ‎Alana Ironhack te añadió.\n",
      "3                                                    Hola\n",
      "4       Les paso las fotos de ayer prepárense xq es un...\n",
      "                              ...                        \n",
      "1769    No y que también pensaba que esos días que íba...\n",
      "1770                                                Jajaj\n",
      "1771                             Disfrutar de tu libertad\n",
      "1772                                           JAJAJAJAJA\n",
      "1773                                                  Así\n",
      "Name: Mensaje, Length: 1774, dtype: object\n",
      "\n",
      "Serie limpiada:\n",
      "0       Los mensajes y las llamadas estn cifrados de e...\n",
      "1          Alana Ironhack cre el grupo Capibaras Ironhack\n",
      "2                                  Alana Ironhack te aadi\n",
      "3                                                    Hola\n",
      "4       Les paso las fotos de ayer preprense xq es un ...\n",
      "                              ...                        \n",
      "1769    No y que tambin pensaba que esos das que bamos...\n",
      "1770                                                Jajaj\n",
      "1771                             Disfrutar de tu libertad\n",
      "1772                                           JAJAJAJAJA\n",
      "1773                                                   As\n",
      "Name: Mensaje, Length: 1774, dtype: object\n"
     ]
    }
   ],
   "source": [
    "# Función para eliminar caracteres especiales de un texto\n",
    "def eliminar_caracteres_especiales(texto):\n",
    "    if isinstance(texto, str):\n",
    "        # Utiliza una expresión regular para eliminar todos los caracteres que no sean letras o números\n",
    "        texto_limpio = re.sub(r'[^a-zA-Z0-9\\s]', '', texto)\n",
    "        return texto_limpio\n",
    "    else:\n",
    "        return texto\n",
    "\n",
    "\n",
    "\n",
    "# Aplicar la función de eliminación de caracteres especiales a cada elemento de la Serie\n",
    "serie_limpiada = texto_corregido.apply(eliminar_caracteres_especiales)\n",
    "\n",
    "# Mostrar los resultados\n",
    "print(\"Serie original:\")\n",
    "print(texto_corregido)\n",
    "print(\"\\nSerie limpiada:\")\n",
    "print(serie_limpiada)\n"
   ]
  },
  {
   "cell_type": "markdown",
   "id": "9f9b3d0a",
   "metadata": {},
   "source": [
    "# EDA"
   ]
  },
  {
   "cell_type": "code",
   "execution_count": 11,
   "id": "3eaa5a5c",
   "metadata": {},
   "outputs": [
    {
     "data": {
      "image/png": "[encoded data removed]",
      "text/plain": [
       "<Figure size 720x432 with 1 Axes>"
      ]
     },
     "metadata": {
      "needs_background": "light"
     },
     "output_type": "display_data"
    }
   ],
   "source": [
    "# Contar los mensajes por persona\n",
    "conteo_mensajes = df['Persona'].value_counts()\n",
    "\n",
    "# Visualizar la distribución\n",
    "plt.figure(figsize=(10, 6))\n",
    "conteo_mensajes.plot(kind='bar', color='skyblue')\n",
    "plt.title('Distribución de mensajes por persona')\n",
    "plt.xlabel('Persona')\n",
    "plt.ylabel('Número de mensajes')\n",
    "plt.xticks(rotation=45, ha='right')\n",
    "plt.tight_layout()\n",
    "plt.show()\n"
   ]
  },
  {
   "cell_type": "code",
   "execution_count": 12,
   "id": "e87f2ad1",
   "metadata": {},
   "outputs": [
    {
     "data": {
      "image/png": "[encoded data removed]",
      "text/plain": [
       "<Figure size 864x432 with 1 Axes>"
      ]
     },
     "metadata": {
      "needs_background": "light"
     },
     "output_type": "display_data"
    }
   ],
   "source": [
    "df['Fecha'] = pd.to_datetime(df['Fecha'] + ' ' + df['Hora'])\n",
    "\n",
    "# Agrupar los mensajes por día y contar el número de mensajes en cada día\n",
    "actividad_diaria = df.groupby(df['Fecha'].dt.date).size()\n",
    "\n",
    "# Visualizar la actividad del chat a lo largo del tiempo\n",
    "plt.figure(figsize=(12, 6))\n",
    "actividad_diaria.plot(marker='o', color='orange')\n",
    "plt.title('Actividad del chat a lo largo del tiempo (por día)')\n",
    "plt.xlabel('Fecha')\n",
    "plt.ylabel('Número de mensajes')\n",
    "plt.grid(True)\n",
    "plt.tight_layout()\n",
    "plt.show()"
   ]
  },
  {
   "cell_type": "code",
   "execution_count": 13,
   "id": "baf6d399",
   "metadata": {},
   "outputs": [
    {
     "data": {
      "image/png": "[encoded data removed]",
      "text/plain": [
       "<Figure size 720x432 with 1 Axes>"
      ]
     },
     "metadata": {
      "needs_background": "light"
     },
     "output_type": "display_data"
    }
   ],
   "source": [
    "# Calcular la longitud de cada mensaje\n",
    "df['Longitud del mensaje'] = df['Mensaje'].apply(len)\n",
    "\n",
    "# Agrupar los mensajes por persona y calcular estadísticas sobre la longitud de los mensajes\n",
    "estadisticas_longitud = df.groupby('Persona')['Longitud del mensaje'].describe()\n",
    "\n",
    "# Visualizar la distribución de la longitud de los mensajes por persona\n",
    "plt.figure(figsize=(10, 6))\n",
    "estadisticas_longitud['mean'].plot(kind='bar', color='lightblue', alpha=0.7, yerr=estadisticas_longitud['std'])\n",
    "plt.title('Longitud promedio de los mensajes por persona')\n",
    "plt.xlabel('Persona')\n",
    "plt.ylabel('Longitud promedio del mensaje')\n",
    "plt.xticks(rotation=45, ha='right')\n",
    "plt.tight_layout()\n",
    "plt.show()"
   ]
  },
  {
   "cell_type": "code",
   "execution_count": 14,
   "id": "37420343",
   "metadata": {},
   "outputs": [
    {
     "data": {
      "text/plain": [
       "<Figure size 720x432 with 0 Axes>"
      ]
     },
     "metadata": {},
     "output_type": "display_data"
    },
    {
     "data": {
      "image/png": "[encoded data removed]",
      "text/plain": [
       "<Figure size 432x288 with 1 Axes>"
      ]
     },
     "metadata": {
      "needs_background": "light"
     },
     "output_type": "display_data"
    }
   ],
   "source": [
    "# Concatenar todos los mensajes en un solo texto\n",
    "todos_los_mensajes = ' '.join(df['Mensaje'])\n",
    "\n",
    "# Dividir el texto en palabras individuales\n",
    "palabras = todos_los_mensajes.split()\n",
    "\n",
    "# Contar la frecuencia de cada palabra\n",
    "conteo_palabras = Counter(palabras)\n",
    "\n",
    "# Palabras irrelevantes que quieres eliminar del análisis (opcional)\n",
    "palabras_irrelevantes = ['el', 'la', 'los', 'las', 'de', 'que', 'a', 'y', 'en', 'con', 'Yo', 'me',\n",
    "                         'mí', 'conmigo', 'Nosotros', 'nos', 'nosotras', 'Tú', 'te', 'ti', 'contigo',\n",
    "                         'usted', 'vos', 'Vosotros', 'vosotras', 'os', 'ustedes', 'Él', 'lo', 'le', \n",
    "                         'se', 'sí', 'consigo', 'ella', 'la', 'ello', 'lo', 'Ellos', 'ellas', 'los',\n",
    "                         'las', 'les', 'se', 'un', 'una']\n",
    "\n",
    "# Eliminar palabras irrelevantes del conteo\n",
    "for palabra in palabras_irrelevantes:\n",
    "    del conteo_palabras[palabra]\n",
    "\n",
    "# Obtener las palabras más frecuentes y su frecuencia de aparición\n",
    "palabras_mas_frecuentes = conteo_palabras.most_common(10)\n",
    "\n",
    "# Visualizar las palabras más frecuentes\n",
    "plt.figure(figsize=(10, 6))\n",
    "palabras_df = pd.DataFrame(palabras_mas_frecuentes, columns=['Palabra', 'Frecuencia'])\n",
    "palabras_df.plot(kind='bar', x='Palabra', y='Frecuencia', color='skyblue')\n",
    "plt.title('Palabras más frecuentes en el chat')\n",
    "plt.xlabel('Palabra')\n",
    "plt.ylabel('Frecuencia')\n",
    "plt.xticks(rotation=45, ha='right')\n",
    "plt.tight_layout()\n",
    "plt.show()"
   ]
  },
  {
   "cell_type": "markdown",
   "id": "8ffa0616",
   "metadata": {},
   "source": [
    "# ANALISIS DE SENTIMIENTOS"
   ]
  },
  {
   "cell_type": "code",
   "execution_count": 25,
   "id": "20b8ffd2",
   "metadata": {},
   "outputs": [
    {
     "name": "stdout",
     "output_type": "stream",
     "text": [
      "       Fecha      Hora             Persona  \\\n",
      "0 2023-11-30  19:12:50  Capibaras Ironhack   \n",
      "1 2023-11-30  19:12:50      Alana Ironhack   \n",
      "2 2023-11-30  19:12:50  Capibaras Ironhack   \n",
      "3 2023-11-30  19:12:56      Alana Ironhack   \n",
      "4 2023-11-30  19:13:12      Alana Ironhack   \n",
      "\n",
      "                                             Mensaje  Positive  Negative  \\\n",
      "0  ‎Los mensajes y las llamadas están cifrados de...       0.0       0.0   \n",
      "1  ‎Alana Ironhack creó el grupo “Capibaras Ironh...       0.0       0.0   \n",
      "2                         ‎Alana Ironhack te añadió.       0.0       0.0   \n",
      "3                                         Holiiii!!!       0.0       0.0   \n",
      "4  Les paso las fotos de ayer prepárense xq es un...       0.0       0.0   \n",
      "\n",
      "   Neutral  \n",
      "0      1.0  \n",
      "1      1.0  \n",
      "2      1.0  \n",
      "3      1.0  \n",
      "4      1.0  \n"
     ]
    }
   ],
   "source": [
    "df = pd.DataFrame(df, columns=[\"Fecha\", 'Hora', 'Persona', 'Mensaje'])\n",
    "df['Fecha'] = pd.to_datetime(df['Fecha'])\n",
    "\n",
    "data = df.dropna()\n",
    "from nltk.sentiment.vader import SentimentIntensityAnalyzer\n",
    "sentiments = SentimentIntensityAnalyzer()\n",
    "data[\"Positive\"] = [sentiments.polarity_scores(i)[\"pos\"] for i in data[\"Mensaje\"]]\n",
    "data[\"Negative\"] = [sentiments.polarity_scores(i)[\"neg\"] for i in data[\"Mensaje\"]]\n",
    "data[\"Neutral\"] = [sentiments.polarity_scores(i)[\"neu\"] for i in data[\"Mensaje\"]]\n",
    "print(data.head())"
   ]
  },
  {
   "cell_type": "code",
   "execution_count": 26,
   "id": "bdf234ed",
   "metadata": {},
   "outputs": [
    {
     "name": "stdout",
     "output_type": "stream",
     "text": [
      "Neutral 🙂 \n"
     ]
    }
   ],
   "source": [
    "x = sum(data[\"Positive\"])\n",
    "y = sum(data[\"Negative\"])\n",
    "z = sum(data[\"Neutral\"])\n",
    "\n",
    "def sentiment_score(a, b, c):\n",
    "    if (a>b) and (a>c):\n",
    "        print(\"Positive 😊 \")\n",
    "    elif (b>a) and (b>c):\n",
    "        print(\"Negative 😠 \")\n",
    "    else:\n",
    "        print(\"Neutral 🙂 \")\n",
    "sentiment_score(x, y, z)"
   ]
  },
  {
   "cell_type": "code",
   "execution_count": null,
   "id": "7a3a48e9",
   "metadata": {},
   "outputs": [],
   "source": []
  }
 ],
 "metadata": {
  "kernelspec": {
   "display_name": "Python m3_env",
   "language": "python",
   "name": "m3_env"
  },
  "language_info": {
   "codemirror_mode": {
    "name": "ipython",
    "version": 3
   },
   "file_extension": ".py",
   "mimetype": "text/x-python",
   "name": "python",
   "nbconvert_exporter": "python",
   "pygments_lexer": "ipython3",
   "version": "3.10.13"
  }
 },
 "nbformat": 4,
 "nbformat_minor": 5
}
